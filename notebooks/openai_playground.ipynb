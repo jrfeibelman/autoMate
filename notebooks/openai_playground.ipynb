{
 "cells": [
  {
   "cell_type": "code",
   "execution_count": 15,
   "id": "38dc4224-79db-44cd-ad1e-e3223177f3a7",
   "metadata": {},
   "outputs": [
    {
     "name": "stdout",
     "output_type": "stream",
     "text": [
      "Successfully loaded environment variables\n"
     ]
    }
   ],
   "source": [
    "from openai import OpenAI\n",
    "from openai.types.chat.chat_completion import ChatCompletion\n",
    "\n",
    "from os import environ, getcwd\n",
    "from dotenv import load_dotenv\n",
    "from pathlib import Path\n",
    "from enum import Enum\n",
    "\n",
    "# Load environment variables from load_environment.env\n",
    "if load_dotenv(Path('../') / 'load_environment.env'):\n",
    "    print(\"Successfully loaded environment variables\")\n",
    "else:\n",
    "    print(\"Error loading environment variables\")"
   ]
  },
  {
   "cell_type": "code",
   "execution_count": 19,
   "id": "3e0974c4-c5a8-4e9f-9c45-a970abfd2162",
   "metadata": {},
   "outputs": [],
   "source": [
    "class GPTModel(Enum):\n",
    "    GPT4_TURBO = 'gpt-4-1106-preview'\n",
    "    GPT4 = 'gpt-4'\n",
    "    GPT3_TURBO = 'gpt-3.5-turbo-1106'\n",
    "\n",
    "class GPTAssitant():\n",
    "    def __init__(self, api_key : str = environ.get(\"OPENAI_API_KEY\")):\n",
    "        self.client = None\n",
    "        if api_key:\n",
    "            self.client = OpenAI(api_key=api_key)\n",
    "        else:\n",
    "            raise ValueError(\"Error: unable to fetch OpenAI API Key\")\n",
    "    \n",
    "    def chat_completion(self, context : str, message : str, model : GPTModel = GPTModel.GPT3_TURBO) -> ChatCompletion:\n",
    "        \"\"\" function to call OpenAI GPT chat completion API \"\"\"\n",
    "        return client.chat.completions.create(\n",
    "          model=model.value,\n",
    "          messages=[\n",
    "            {\"role\": \"system\", \"content\": context},\n",
    "            {\"role\": \"user\", \"content\": message}\n",
    "          ]\n",
    "        )"
   ]
  },
  {
   "cell_type": "code",
   "execution_count": null,
   "id": "5e2bf287-ae24-405e-9e3b-74253809ae2f",
   "metadata": {},
   "outputs": [],
   "source": []
  }
 ],
 "metadata": {
  "kernelspec": {
   "display_name": "Python 3 (ipykernel)",
   "language": "python",
   "name": "python3"
  },
  "language_info": {
   "codemirror_mode": {
    "name": "ipython",
    "version": 3
   },
   "file_extension": ".py",
   "mimetype": "text/x-python",
   "name": "python",
   "nbconvert_exporter": "python",
   "pygments_lexer": "ipython3",
   "version": "3.11.6"
  }
 },
 "nbformat": 4,
 "nbformat_minor": 5
}
