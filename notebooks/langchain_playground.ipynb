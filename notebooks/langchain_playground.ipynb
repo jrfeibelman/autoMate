{
 "cells": [
  {
   "cell_type": "code",
   "execution_count": 1,
   "id": "305de512-110f-45c0-a998-a0be4180e740",
   "metadata": {},
   "outputs": [],
   "source": [
    "import numpy as np"
   ]
  },
  {
   "cell_type": "code",
   "execution_count": 2,
   "id": "d4331fb2-3644-4b23-b0bb-f4f58c4b89d0",
   "metadata": {},
   "outputs": [],
   "source": [
    "#"
   ]
  },
  {
   "cell_type": "code",
   "execution_count": null,
   "id": "1a6ac984-3baf-49b7-a1ea-a46fe8154585",
   "metadata": {},
   "outputs": [],
   "source": []
  },
  {
   "cell_type": "code",
   "execution_count": null,
   "id": "d3d9d9f8-6543-4372-9ee4-f8205f9286e1",
   "metadata": {},
   "outputs": [],
   "source": []
  },
  {
   "cell_type": "code",
   "execution_count": null,
   "id": "1a3a4c32-5fa7-49ce-9d43-3bb28b2b76bc",
   "metadata": {},
   "outputs": [],
   "source": []
  },
  {
   "cell_type": "code",
   "execution_count": null,
   "id": "3b900fc9-8e21-475b-af00-61a39d13b29c",
   "metadata": {},
   "outputs": [],
   "source": []
  },
  {
   "cell_type": "code",
   "execution_count": null,
   "id": "6a56f559-4365-41af-8c50-6188ef219518",
   "metadata": {},
   "outputs": [],
   "source": []
  },
  {
   "cell_type": "code",
   "execution_count": null,
   "id": "4fbf33a4-aadf-49b5-935c-f96b25b9039b",
   "metadata": {},
   "outputs": [],
   "source": []
  },
  {
   "cell_type": "code",
   "execution_count": null,
   "id": "8b243333-52e4-491e-a651-73ef856ea2ac",
   "metadata": {},
   "outputs": [],
   "source": []
  },
  {
   "cell_type": "markdown",
   "id": "879e88e6-fe6e-4675-8878-84126d2a2d4d",
   "metadata": {},
   "source": [
    "# Idea:\n",
    "\n",
    "## AI that lives on your computer and has access to all your file directories (put special file it can use for gathering extraction by recursively parsing file structure\n",
    "\n",
    "## AI assistant that can listen to conversations in real time (both on virtual and in person meets) and suggest content to bring up or answer questions that is asked\n",
    "\n",
    "## AI can capture screen and make suggestions based on whats on your screen\n",
    "\n",
    "## AI can help streamline calendar, todo items, and communications\n",
    "### Can start automating some todo items based on what you've previously done"
   ]
  },
  {
   "cell_type": "code",
   "execution_count": null,
   "id": "407130dd-d0ff-45ee-8c33-43662c377dbd",
   "metadata": {},
   "outputs": [],
   "source": []
  }
 ],
 "metadata": {
  "kernelspec": {
   "display_name": "Python 3 (ipykernel)",
   "language": "python",
   "name": "python3"
  },
  "language_info": {
   "codemirror_mode": {
    "name": "ipython",
    "version": 3
   },
   "file_extension": ".py",
   "mimetype": "text/x-python",
   "name": "python",
   "nbconvert_exporter": "python",
   "pygments_lexer": "ipython3",
   "version": "3.11.6"
  }
 },
 "nbformat": 4,
 "nbformat_minor": 5
}
